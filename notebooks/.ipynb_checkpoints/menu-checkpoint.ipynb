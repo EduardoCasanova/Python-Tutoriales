{
 "cells": [
  {
   "cell_type": "code",
   "execution_count": null,
   "metadata": {},
   "outputs": [],
   "source": [
    "def abrir():\n",
    "    print('abriendo')\n",
    "    \n",
    "def salir():\n",
    "    print('saliendo')\n",
    "\n",
    "seguir=True\n",
    "\n",
    "while seguir:\n",
    "    menu={'a':['abrir','abrir()'], 'b':'otra()', 's': 'salir()'}\n",
    "    for key in ['a','s']:\n",
    "        print(key,' - ',menu.get(key[0]))\n",
    "    op=input('opción: ')\n",
    "    print(op)\n",
    "    eval(menu.get(op,\"print('no')\"))\n",
    "("
   ]
  },
  {
   "cell_type": "code",
   "execution_count": null,
   "metadata": {},
   "outputs": [],
   "source": [
    "eval(\"print('opción válida')\")"
   ]
  },
  {
   "cell_type": "code",
   "execution_count": null,
   "metadata": {},
   "outputs": [],
   "source": []
  }
 ],
 "metadata": {
  "kernelspec": {
   "display_name": "Python 3",
   "language": "python",
   "name": "python3"
  },
  "language_info": {
   "codemirror_mode": {
    "name": "ipython",
    "version": 3
   },
   "file_extension": ".py",
   "mimetype": "text/x-python",
   "name": "python",
   "nbconvert_exporter": "python",
   "pygments_lexer": "ipython3",
   "version": "3.6.2"
  }
 },
 "nbformat": 4,
 "nbformat_minor": 2
}
