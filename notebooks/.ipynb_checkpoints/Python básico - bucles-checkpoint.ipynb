{
 "cells": [
  {
   "cell_type": "markdown",
   "metadata": {},
   "source": [
    "## Python básico ##\n",
    "### Bucles while  y for ###"
   ]
  },
  {
   "cell_type": "markdown",
   "metadata": {},
   "source": [
    "- ### while    \n",
    "Por ahora lo usamos en su forma más simple.    \n",
    "Mira más abajo el help para los detalles."
   ]
  },
  {
   "cell_type": "code",
   "execution_count": 3,
   "metadata": {
    "scrolled": true
   },
   "outputs": [
    {
     "name": "stdout",
     "output_type": "stream",
     "text": [
      "10\n",
      "9\n",
      "8\n",
      "7\n",
      "6\n",
      "5\n",
      "4\n",
      "3\n",
      "2\n",
      "1\n",
      "terminó el \"while\"\n"
     ]
    }
   ],
   "source": [
    "i = 10\n",
    "while i > 0:\n",
    "    print(i)\n",
    "    i = i - 1\n",
    "print('terminó el \"while\"')"
   ]
  },
  {
   "cell_type": "markdown",
   "metadata": {},
   "source": [
    "- ### Pidiendo ayuda"
   ]
  },
  {
   "cell_type": "code",
   "execution_count": null,
   "metadata": {},
   "outputs": [],
   "source": [
    "# en algunos casos la instrucción\n",
    "# para la que se pide ayuda debe estar entre ' '\n",
    "# sino da error\n",
    "help('while')"
   ]
  },
  {
   "cell_type": "markdown",
   "metadata": {},
   "source": [
    "- ### range   \n",
    "Este no es un bucle, pero conviene entenderlo, porque se usa mucho junto con el for.   \n",
    "Devuelve una secuencia de enteros desde el inicio (incluido) hasta el final (excluido)."
   ]
  },
  {
   "cell_type": "code",
   "execution_count": 16,
   "metadata": {},
   "outputs": [],
   "source": [
    "# indicando la cantidad de elementos\n",
    "a = range(5)\n",
    "\n",
    "# con valores inicial y final\n",
    "b = range(3,7)\n",
    "\n",
    "# indicando el cambio entre valores (paso)\n",
    "c = range (3,15,2)"
   ]
  },
  {
   "cell_type": "code",
   "execution_count": 60,
   "metadata": {},
   "outputs": [
    {
     "name": "stdout",
     "output_type": "stream",
     "text": [
      "Help on class range in module builtins:\n",
      "\n",
      "class range(object)\n",
      " |  range(stop) -> range object\n",
      " |  range(start, stop[, step]) -> range object\n",
      " |  \n",
      " |  Return an object that produces a sequence of integers from start (inclusive)\n",
      " |  to stop (exclusive) by step.  range(i, j) produces i, i+1, i+2, ..., j-1.\n",
      " |  start defaults to 0, and stop is omitted!  range(4) produces 0, 1, 2, 3.\n",
      " |  These are exactly the valid indices for a list of 4 elements.\n",
      " |  When step is given, it specifies the increment (or decrement).\n",
      " |  \n",
      " |  Methods defined here:\n",
      " |  \n",
      " |  __bool__(self, /)\n",
      " |      self != 0\n",
      " |  \n",
      " |  __contains__(self, key, /)\n",
      " |      Return key in self.\n",
      " |  \n",
      " |  __eq__(self, value, /)\n",
      " |      Return self==value.\n",
      " |  \n",
      " |  __ge__(self, value, /)\n",
      " |      Return self>=value.\n",
      " |  \n",
      " |  __getattribute__(self, name, /)\n",
      " |      Return getattr(self, name).\n",
      " |  \n",
      " |  __getitem__(self, key, /)\n",
      " |      Return self[key].\n",
      " |  \n",
      " |  __gt__(self, value, /)\n",
      " |      Return self>value.\n",
      " |  \n",
      " |  __hash__(self, /)\n",
      " |      Return hash(self).\n",
      " |  \n",
      " |  __iter__(self, /)\n",
      " |      Implement iter(self).\n",
      " |  \n",
      " |  __le__(self, value, /)\n",
      " |      Return self<=value.\n",
      " |  \n",
      " |  __len__(self, /)\n",
      " |      Return len(self).\n",
      " |  \n",
      " |  __lt__(self, value, /)\n",
      " |      Return self<value.\n",
      " |  \n",
      " |  __ne__(self, value, /)\n",
      " |      Return self!=value.\n",
      " |  \n",
      " |  __new__(*args, **kwargs) from builtins.type\n",
      " |      Create and return a new object.  See help(type) for accurate signature.\n",
      " |  \n",
      " |  __reduce__(...)\n",
      " |      helper for pickle\n",
      " |  \n",
      " |  __repr__(self, /)\n",
      " |      Return repr(self).\n",
      " |  \n",
      " |  __reversed__(...)\n",
      " |      Return a reverse iterator.\n",
      " |  \n",
      " |  count(...)\n",
      " |      rangeobject.count(value) -> integer -- return number of occurrences of value\n",
      " |  \n",
      " |  index(...)\n",
      " |      rangeobject.index(value, [start, [stop]]) -> integer -- return index of value.\n",
      " |      Raise ValueError if the value is not present.\n",
      " |  \n",
      " |  ----------------------------------------------------------------------\n",
      " |  Data descriptors defined here:\n",
      " |  \n",
      " |  start\n",
      " |  \n",
      " |  step\n",
      " |  \n",
      " |  stop\n",
      "\n"
     ]
    }
   ],
   "source": [
    "# para más detalles pide ayuda\n",
    "help(range)"
   ]
  },
  {
   "cell_type": "markdown",
   "metadata": {},
   "source": [
    "- ### for\n",
    "Esta instrucción se usa de una forma algo distinta a otros lenguajes.\n"
   ]
  },
  {
   "cell_type": "code",
   "execution_count": 18,
   "metadata": {},
   "outputs": [
    {
     "name": "stdout",
     "output_type": "stream",
     "text": [
      "The \"for\" statement\n",
      "*******************\n",
      "\n",
      "The \"for\" statement is used to iterate over the elements of a sequence\n",
      "(such as a string, tuple or list) or other iterable object:\n",
      "\n",
      "   for_stmt ::= \"for\" target_list \"in\" expression_list \":\" suite\n",
      "                [\"else\" \":\" suite]\n",
      "\n",
      "The expression list is evaluated once; it should yield an iterable\n",
      "object.  An iterator is created for the result of the\n",
      "\"expression_list\".  The suite is then executed once for each item\n",
      "provided by the iterator, in the order returned by the iterator.  Each\n",
      "item in turn is assigned to the target list using the standard rules\n",
      "for assignments (see Assignment statements), and then the suite is\n",
      "executed.  When the items are exhausted (which is immediately when the\n",
      "sequence is empty or an iterator raises a \"StopIteration\" exception),\n",
      "the suite in the \"else\" clause, if present, is executed, and the loop\n",
      "terminates.\n",
      "\n",
      "A \"break\" statement executed in the first suite terminates the loop\n",
      "without executing the \"else\" clause's suite.  A \"continue\" statement\n",
      "executed in the first suite skips the rest of the suite and continues\n",
      "with the next item, or with the \"else\" clause if there is no next\n",
      "item.\n",
      "\n",
      "The for-loop makes assignments to the variables(s) in the target list.\n",
      "This overwrites all previous assignments to those variables including\n",
      "those made in the suite of the for-loop:\n",
      "\n",
      "   for i in range(10):\n",
      "       print(i)\n",
      "       i = 5             # this will not affect the for-loop\n",
      "                         # because i will be overwritten with the next\n",
      "                         # index in the range\n",
      "\n",
      "Names in the target list are not deleted when the loop is finished,\n",
      "but if the sequence is empty, they will not have been assigned to at\n",
      "all by the loop.  Hint: the built-in function \"range()\" returns an\n",
      "iterator of integers suitable to emulate the effect of Pascal's \"for i\n",
      ":= a to b do\"; e.g., \"list(range(3))\" returns the list \"[0, 1, 2]\".\n",
      "\n",
      "Note: There is a subtlety when the sequence is being modified by the\n",
      "  loop (this can only occur for mutable sequences, i.e. lists).  An\n",
      "  internal counter is used to keep track of which item is used next,\n",
      "  and this is incremented on each iteration.  When this counter has\n",
      "  reached the length of the sequence the loop terminates.  This means\n",
      "  that if the suite deletes the current (or a previous) item from the\n",
      "  sequence, the next item will be skipped (since it gets the index of\n",
      "  the current item which has already been treated).  Likewise, if the\n",
      "  suite inserts an item in the sequence before the current item, the\n",
      "  current item will be treated again the next time through the loop.\n",
      "  This can lead to nasty bugs that can be avoided by making a\n",
      "  temporary copy using a slice of the whole sequence, e.g.,\n",
      "\n",
      "     for x in a[:]:\n",
      "         if x < 0: a.remove(x)\n",
      "\n",
      "Related help topics: break, continue, while\n",
      "\n"
     ]
    }
   ],
   "source": [
    "help('for')"
   ]
  },
  {
   "cell_type": "markdown",
   "metadata": {},
   "source": [
    "Resumiendo: el __for__ recorre los elementos de un objeto __iterable__, como el generado por range, una lista, cadena, tupla, etc."
   ]
  },
  {
   "cell_type": "code",
   "execution_count": 33,
   "metadata": {},
   "outputs": [
    {
     "name": "stdout",
     "output_type": "stream",
     "text": [
      "3; 5; 7; 9; 11; 13; "
     ]
    }
   ],
   "source": [
    "# con un rango de los creados anteriormente\n",
    "for i in c:\n",
    "    print(i, end='; ')"
   ]
  },
  {
   "cell_type": "code",
   "execution_count": 24,
   "metadata": {},
   "outputs": [
    {
     "name": "stdout",
     "output_type": "stream",
     "text": [
      "10; 17; 24; 31; 38; 45; 52; 59; 66; 73; 80; 87; "
     ]
    }
   ],
   "source": [
    "# con un rango generado al momento\n",
    "for i in range(10,90,7):\n",
    "    print(i, end='; ')"
   ]
  },
  {
   "cell_type": "code",
   "execution_count": 27,
   "metadata": {},
   "outputs": [
    {
     "name": "stdout",
     "output_type": "stream",
     "text": [
      "P; y; t; h; o; n; "
     ]
    }
   ],
   "source": [
    "# con una cadena\n",
    "for i in 'Python':\n",
    "    print(i, end='; ')"
   ]
  },
  {
   "cell_type": "code",
   "execution_count": 22,
   "metadata": {},
   "outputs": [
    {
     "name": "stdout",
     "output_type": "stream",
     "text": [
      "3; 6; 17; "
     ]
    }
   ],
   "source": [
    "# con una tupla\n",
    "for i in (3,6,17):\n",
    "    print(i, end='; ')"
   ]
  },
  {
   "cell_type": "code",
   "execution_count": 26,
   "metadata": {
    "scrolled": true
   },
   "outputs": [
    {
     "name": "stdout",
     "output_type": "stream",
     "text": [
      "Facultad de Informática "
     ]
    }
   ],
   "source": [
    "# con una lista\n",
    "for i in ['Facultad','de','Informática']:\n",
    "    print(i, end=' ')"
   ]
  },
  {
   "cell_type": "code",
   "execution_count": 49,
   "metadata": {},
   "outputs": [
    {
     "name": "stdout",
     "output_type": "stream",
     "text": [
      "<-F-a-c-u-l-t-a-d->\n",
      "<-d-e->\n",
      "<-I-n-f-o-r-m-á-t-i-c-a->\n"
     ]
    }
   ],
   "source": [
    "# anidando\n",
    "for i in ['Facultad','de','Informática']:\n",
    "    print('<',end='-')\n",
    "    for j in i:\n",
    "        print(j, end='-')\n",
    "    print('>')"
   ]
  },
  {
   "cell_type": "code",
   "execution_count": 58,
   "metadata": {},
   "outputs": [
    {
     "name": "stdout",
     "output_type": "stream",
     "text": [
      "a: aaa\n",
      "5: [4, 6, 8]\n",
      "color: azul\n"
     ]
    }
   ],
   "source": [
    "# con un diccionario\n",
    "# tener en cuenta que el orden de los elementos\n",
    "# de un diccionario no es necesariamente \n",
    "# el que se ingresa.\n",
    "dicc = {'a':'aaa', 5 : [4,6,8],'color':'azul'}\n",
    "for i in dicc:\n",
    "    print(i,dicc[i], sep=': ')"
   ]
  },
  {
   "cell_type": "markdown",
   "metadata": {},
   "source": [
    "- ## Prueba tu código aquí:"
   ]
  },
  {
   "cell_type": "code",
   "execution_count": null,
   "metadata": {},
   "outputs": [],
   "source": []
  }
 ],
 "metadata": {
  "kernelspec": {
   "display_name": "Python 3",
   "language": "python",
   "name": "python3"
  },
  "language_info": {
   "codemirror_mode": {
    "name": "ipython",
    "version": 3
   },
   "file_extension": ".py",
   "mimetype": "text/x-python",
   "name": "python",
   "nbconvert_exporter": "python",
   "pygments_lexer": "ipython3",
   "version": "3.6.2"
  }
 },
 "nbformat": 4,
 "nbformat_minor": 2
}
