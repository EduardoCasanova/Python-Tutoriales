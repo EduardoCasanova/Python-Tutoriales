{
 "cells": [
  {
   "cell_type": "markdown",
   "metadata": {},
   "source": [
    "## Python básico ##"
   ]
  },
  {
   "cell_type": "markdown",
   "metadata": {},
   "source": [
    "**NOTA:** Si no podés interactuar con el código es porque estás viendo una página estática.  \n",
    "Acá están las versiones [dinámica](./Python%20b%C3%A1sico%20-%20imprimiendo.ipynb), y [estática](./Python%20b%C3%A1sico%20-%20imprimiendo.html)   \n",
    "Está construida con Jupyter Notebook {enlace}, una librería Python muy útil para probar código y documentarlo.\n"
   ]
  },
  {
   "cell_type": "markdown",
   "metadata": {},
   "source": [
    "### Imprimiendo ###"
   ]
  },
  {
   "cell_type": "markdown",
   "metadata": {},
   "source": [
    "- se puede imprimir directamente una cadena encerrándola entre ' ' o \" \""
   ]
  },
  {
   "cell_type": "code",
   "execution_count": 32,
   "metadata": {
    "scrolled": true
   },
   "outputs": [
    {
     "name": "stdout",
     "output_type": "stream",
     "text": [
      "hola\n"
     ]
    }
   ],
   "source": [
    "print('hola')"
   ]
  },
  {
   "cell_type": "markdown",
   "metadata": {},
   "source": [
    "- o una variable"
   ]
  },
  {
   "cell_type": "code",
   "execution_count": 28,
   "metadata": {},
   "outputs": [
    {
     "name": "stdout",
     "output_type": "stream",
     "text": [
      "34\n"
     ]
    }
   ],
   "source": [
    "a = 34\n",
    "print(a)"
   ]
  },
  {
   "cell_type": "markdown",
   "metadata": {},
   "source": [
    "- o varias, separadas con comas\n"
   ]
  },
  {
   "cell_type": "code",
   "execution_count": 15,
   "metadata": {},
   "outputs": [
    {
     "name": "stdout",
     "output_type": "stream",
     "text": [
      "hola -5.5 chau\n"
     ]
    }
   ],
   "source": [
    "a = 'chau'\n",
    "b=-5.5\n",
    "print('hola',b,a)"
   ]
  },
  {
   "cell_type": "markdown",
   "metadata": {},
   "source": [
    "- imprimir comillas \" \" encerrando la cadena .con ' ', y viceversa."
   ]
  },
  {
   "cell_type": "code",
   "execution_count": 7,
   "metadata": {},
   "outputs": [
    {
     "name": "stdout",
     "output_type": "stream",
     "text": [
      "comillas \"dobles\" y 'simples'\n"
     ]
    }
   ],
   "source": [
    "print('comillas \"dobles\"',\"y 'simples'\")"
   ]
  },
  {
   "cell_type": "markdown",
   "metadata": {},
   "source": [
    "- hacer operaciones dentro de los ( )\n"
   ]
  },
  {
   "cell_type": "code",
   "execution_count": 18,
   "metadata": {},
   "outputs": [
    {
     "name": "stdout",
     "output_type": "stream",
     "text": [
      "4.25 ** 5.71  =  3873.4752968110674\n",
      "Facultad de Informática\n"
     ]
    }
   ],
   "source": [
    "a = 4.25\n",
    "b = 5.71\n",
    "print(a,'**',b,' = ', a**b)\n",
    "print('Facultad '+'de'+' Informática')\n",
    "#la anterior es una concatenación (unión de cadenas)"
   ]
  },
  {
   "cell_type": "markdown",
   "metadata": {},
   "source": [
    "Hasta acá no hay muchas diferencias con el *writeln* de Pascal.\n",
    "Pero ¿y si queremos algo más?, por ejemplo que actue como el *write* (es decir que no salte de línea)."
   ]
  },
  {
   "cell_type": "markdown",
   "metadata": {},
   "source": [
    "- ** usando el help()**  \n",
    "_Además de esto siempre nos conviene tener a mano las especificaciones del lenguaje y las librerías que estemos usando._  \n",
    "(espero que entiendan algo de inglés)."
   ]
  },
  {
   "cell_type": "code",
   "execution_count": 22,
   "metadata": {
    "scrolled": true
   },
   "outputs": [
    {
     "name": "stdout",
     "output_type": "stream",
     "text": [
      "Help on built-in function print in module builtins:\n",
      "\n",
      "print(...)\n",
      "    print(value, ..., sep=' ', end='\\n', file=sys.stdout, flush=False)\n",
      "    \n",
      "    Prints the values to a stream, or to sys.stdout by default.\n",
      "    Optional keyword arguments:\n",
      "    file:  a file-like object (stream); defaults to the current sys.stdout.\n",
      "    sep:   string inserted between values, default a space.\n",
      "    end:   string appended after the last value, default a newline.\n",
      "    flush: whether to forcibly flush the stream.\n",
      "\n"
     ]
    }
   ],
   "source": [
    "help(print)"
   ]
  },
  {
   "cell_type": "markdown",
   "metadata": {},
   "source": [
    "Por ahora miremos lo más simple en:  \n",
    "_ print(value, ..., sep=' ', end='\\n', file=sys.stdout, flush=False) _   \n",
    "__value, ...__ nos dice que la función acepta múltiples valores (esto ya lo usamos).  \n",
    "__sep__ es el caracter que separa los valores al imprimirlos, por defecto un espacio.  \n",
    "__end__ indica como terminar la línea, por defecto un '\\n' (como en C y otros lenguajes esto es un salto de línea).   \n",
    "El cambio solo afecta al print actual y no a los siguientes, que vuelven a la configuración por defecto.   \n",
    "Los dos parámetros restantes quedan para más adelante.   "
   ]
  },
  {
   "cell_type": "markdown",
   "metadata": {},
   "source": [
    "- __Ahora a probar __"
   ]
  },
  {
   "cell_type": "code",
   "execution_count": 11,
   "metadata": {},
   "outputs": [
    {
     "name": "stdout",
     "output_type": "stream",
     "text": [
      "abcdef\n",
      "ghi\n"
     ]
    }
   ],
   "source": [
    "#imitando el \"write\" de Pascal\n",
    "print('abc',end='')\n",
    "print('def')\n",
    "print('ghi')"
   ]
  },
  {
   "cell_type": "code",
   "execution_count": 10,
   "metadata": {},
   "outputs": [
    {
     "name": "stdout",
     "output_type": "stream",
     "text": [
      "abc\tdef\n",
      "ghi\n"
     ]
    }
   ],
   "source": [
    "#tabulaciones\n",
    "print('abc',end='\\t')\n",
    "print('def')\n",
    "print('ghi')"
   ]
  },
  {
   "cell_type": "code",
   "execution_count": 12,
   "metadata": {
    "scrolled": true
   },
   "outputs": [
    {
     "name": "stdout",
     "output_type": "stream",
     "text": [
      "Empezando♥con♥Python\n",
      "solo vuelve a usar el espacio\n"
     ]
    }
   ],
   "source": [
    "#cambiando el separador\n",
    "print('Empezando','con','Python',sep='♥')\n",
    "print('solo vuelve a usar el espacio')"
   ]
  },
  {
   "cell_type": "markdown",
   "metadata": {},
   "source": [
    "- ## Prueba tu código aquí:"
   ]
  },
  {
   "cell_type": "code",
   "execution_count": null,
   "metadata": {},
   "outputs": [],
   "source": []
  }
 ],
 "metadata": {
  "kernelspec": {
   "display_name": "Python 3",
   "language": "python",
   "name": "python3"
  },
  "language_info": {
   "codemirror_mode": {
    "name": "ipython",
    "version": 3
   },
   "file_extension": ".py",
   "mimetype": "text/x-python",
   "name": "python",
   "nbconvert_exporter": "python",
   "pygments_lexer": "ipython3",
   "version": "3.6.2"
  }
 },
 "nbformat": 4,
 "nbformat_minor": 2
}
